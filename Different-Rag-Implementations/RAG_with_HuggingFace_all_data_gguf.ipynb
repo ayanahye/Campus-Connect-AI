{
  "cells": [
    {
      "cell_type": "markdown",
      "metadata": {
        "id": "08CJHqgU4QVR"
      },
      "source": [
        "Updated notebook - main changes: revert to separating each category into its own collection, implement 2 step pipeline (categorize, then retrieve from those relevant collections). Somehow, takes a substantial amount of time now (ie 7 queries in 17 minutes) (using general qa set and some other random set of data), to discuss."
      ]
    },
    {
      "cell_type": "markdown",
      "metadata": {
        "id": "ym5dMYn-9Sum"
      },
      "source": [
        "## Please Download the gguf file (model_path)"
      ]
    },
    {
      "cell_type": "markdown",
      "metadata": {
        "id": "C7QDSxSV0YcR"
      },
      "source": [
        "download this: Llama-3.2-1B-Instruct-IQ3_M.gguf\n",
        "link: https://huggingface.co/bartowski/Llama-3.2-1B-Instruct-GGUF/blob/main/Llama-3.2-1B-Instruct-IQ3_M.gguf"
      ]
    },
    {
      "cell_type": "markdown",
      "metadata": {
        "id": "GNlcwxKR9gXt"
      },
      "source": [
        "Install some dependencies"
      ]
    },
    {
      "cell_type": "code",
      "execution_count": null,
      "metadata": {
        "id": "q0wlrXoS1EP-"
      },
      "outputs": [],
      "source": [
        "!pip install -q -U accelerate==0.27.1\n",
        "!pip install -q -U datasets==2.17.0\n",
        "!pip install -q -U transformers==4.38.1\n",
        "!pip install langchain sentence-transformers chromadb langchainhub\n",
        "\n",
        "!pip install langchain-community langchain-core"
      ]
    },
    {
      "cell_type": "markdown",
      "metadata": {
        "id": "DedwIx35-UcR"
      },
      "source": [
        "Get the Model You Want"
      ]
    },
    {
      "cell_type": "code",
      "execution_count": null,
      "metadata": {
        "id": "hu5dP1rbDv0E"
      },
      "outputs": [],
      "source": [
        "#!pip install --upgrade --upgrade-strategy eager \"optimum[neural-compressor]\"\n",
        "!pip install llama-cpp-python"
      ]
    },
    {
      "cell_type": "code",
      "execution_count": null,
      "metadata": {
        "id": "M-dvCR_M1qQR"
      },
      "outputs": [],
      "source": [
        "from transformers import AutoTokenizer, AutoModelForCausalLM, BitsAndBytesConfig\n",
        "from langchain.embeddings import HuggingFaceEmbeddings\n",
        "from langchain.vectorstores import Chroma\n",
        "import chromadb\n",
        "\n",
        "import time\n",
        "import uuid\n",
        "from llama_cpp import Llama\n",
        "#from fuzzywuzzy import fuzz\n",
        "#from optimum.quantization import QuantizeruenceClassification\n"
      ]
    },
    {
      "cell_type": "markdown",
      "metadata": {
        "id": "iaDCl4Jj-YCQ"
      },
      "source": [
        "Define Variables"
      ]
    },
    {
      "cell_type": "code",
      "execution_count": null,
      "metadata": {
        "id": "ymTffeGN4EH-"
      },
      "outputs": [],
      "source": [
        "from llama_cpp import Llama\n",
        "\n",
        "model_path = \"Llama-3.2-1B-Instruct-IQ3_M.gguf\"\n",
        "\n",
        "model = Llama(model_path=model_path, n_ctx=2048, n_threads=8)\n"
      ]
    },
    {
      "cell_type": "code",
      "execution_count": null,
      "metadata": {
        "id": "jGq9g41dv3ru"
      },
      "outputs": [],
      "source": [
        "#ls -lh /content/Llama-3.2-1B-Instruct-IQ3_M.gguf\n",
        "\n",
        "from langchain.embeddings import HuggingFaceEmbeddings\n",
        "from langchain.vectorstores import Chroma\n",
        "import chromadb\n",
        "import uuid\n",
        "import pandas as pd\n",
        "#from fuzzywuzzy import fuzz\n",
        "\n",
        "# pt model for generating embeddings used pretty often\n",
        "embedding_model = HuggingFaceEmbeddings(\n",
        "    model_name=\"sentence-transformers/paraphrase-MiniLM-L6-v2\"\n",
        ")\n",
        "\n",
        "# persistent client to interact w chroma vector store\n",
        "client = chromadb.PersistentClient(path=\"./chroma_db\")\n",
        "\n",
        "# create collections for each data (for testing rn)\n",
        "collection = client.get_or_create_collection(name=\"combined_docs\")\n",
        "\n"
      ]
    },
    {
      "cell_type": "markdown",
      "metadata": {
        "id": "rBA-ljP5-bOR"
      },
      "source": [
        "Define Data Sources"
      ]
    },
    {
      "cell_type": "code",
      "execution_count": 6,
      "metadata": {
        "colab": {
          "base_uri": "https://localhost:8080/"
        },
        "id": "UVLl-QTT61Aw",
        "outputId": "22d88b44-33d8-4f08-c0d1-2d480c1944ba"
      },
      "outputs": [
        {
          "name": "stdout",
          "output_type": "stream",
          "text": [
            "study_permit_general: Loaded 14 docs.\n",
            "work_permit_student_general: Loaded 23 docs.\n",
            "work-study-data-llm: Loaded 178 docs.\n",
            "vancouver_transit_qa_pairs: Loaded 37 docs.\n",
            "permanent_residence_student_general: Loaded 6 docs.\n",
            "data-with-sources: Loaded 75 docs.\n",
            "faq_qa_pairs_general: Loaded 220 docs.\n",
            "hikes_qa: Loaded 278 docs.\n",
            "sfu-faq-with-sources: Loaded 102 docs.\n",
            "sfu-housing-with-sources: Loaded 74 docs.\n",
            "sfu-immigration-faq: Loaded 83 docs.\n",
            "park_qa_pairs-up: Loaded 216 docs.\n",
            "cultural_space_qa_pairs_up: Loaded 560 docs.\n",
            "qa_pairs_food: Loaded 38 docs.\n",
            "qa_pairs_year_and_month_avg: Loaded 1488 docs.\n",
            "qa_pairs_sfu_clubs: Loaded 163 docs.\n"
          ]
        }
      ],
      "source": [
        "import pandas as pd\n",
        "import concurrent.futures\n",
        "import uuid\n",
        "import os\n",
        "\n",
        "file_names = [\n",
        "    \"study_permit_general\", \"work_permit_student_general\", \"work-study-data-llm\",\n",
        "    \"vancouver_transit_qa_pairs\", \"permanent_residence_student_general\", \"data-with-sources\",\n",
        "    \"faq_qa_pairs_general\", \"hikes_qa\", \"sfu-faq-with-sources\", \"sfu-housing-with-sources\",\n",
        "    \"sfu-immigration-faq\", \"park_qa_pairs-up\", \"cultural_space_qa_pairs_up\",\n",
        "    \"qa_pairs_food\", \"qa_pairs_year_and_month_avg\", \"qa_pairs_sfu_clubs\"\n",
        "]\n",
        "\n",
        "collections = {}\n",
        "batch_size = 32\n",
        "\n",
        "def process_file(file):\n",
        "    try:\n",
        "        path = f'../Data/{file}.csv'\n",
        "        if not os.path.exists(path):\n",
        "            return f\"{file} skipped (file not found).\"\n",
        "\n",
        "        df = pd.read_csv(path, usecols=lambda col: col.lower() in {\"question\", \"answer\"})\n",
        "        df.columns = df.columns.str.lower()\n",
        "\n",
        "        if \"question\" not in df.columns or \"answer\" not in df.columns:\n",
        "            return f\"{file} skipped (missing question/answer columns).\"\n",
        "\n",
        "        df = df.drop_duplicates(subset=\"question\")\n",
        "        df[\"text\"] = df[\"question\"].fillna('') + ' ' + df[\"answer\"].fillna('')\n",
        "        unique_texts = list(set(df[\"text\"].dropna().tolist()))\n",
        "\n",
        "        collection = client.get_or_create_collection(name=file)\n",
        "        for i in range(0, len(unique_texts), batch_size):\n",
        "            batch = unique_texts[i:i + batch_size]\n",
        "            embeddings = embedding_model.embed_documents(batch)\n",
        "            ids = [str(uuid.uuid4()) for _ in batch]\n",
        "            collection.add(ids=ids, embeddings=embeddings, documents=batch)\n",
        "\n",
        "        collections[file] = collection\n",
        "        return f\"{file}: Loaded {len(unique_texts)} docs.\"\n",
        "    except Exception as e:\n",
        "        return f\"{file}: Error - {e}\"\n",
        "\n",
        "# parallelogram\n",
        "with concurrent.futures.ThreadPoolExecutor(max_workers=6) as executor:\n",
        "    results = list(executor.map(process_file, file_names))\n",
        "\n",
        "for result in results:\n",
        "    print(result)\n"
      ]
    },
    {
      "cell_type": "code",
      "execution_count": null,
      "metadata": {
        "id": "r976Yrgqdvjk"
      },
      "outputs": [],
      "source": [
        "# define cat to collection mapping\n",
        "# motivation: takes wayyyy too long now -> dataset size trippled and time grew exponentially...\n",
        "# now takes around 2 mins on avg for each response..compared to 40 seconds previosusly..\n",
        "\n",
        "collection_map = {\n",
        "    \"study\": \"study_permit_general\",\n",
        "    \"student work\": \"work_permit_student_general\",\n",
        "    \"work-study\": \"work-study-data-llm\",\n",
        "    \"transit\": \"vancouver_transit_qa_pairs\",\n",
        "    \"permanent residence\": \"permanent_residence_student_general\",\n",
        "    \"general info\": \"data-with-sources\",\n",
        "    \"faq\": \"faq_qa_pairs_general\",\n",
        "    \"hiking\": \"hikes_qa\",\n",
        "    \"sfu faq\": \"sfu-faq-with-sources\",\n",
        "    \"housing\": \"sfu-housing-with-sources\",\n",
        "    \"immigration\": \"sfu-immigration-faq\",\n",
        "    \"parks\": \"park_qa_pairs-up\",\n",
        "    \"culture\": \"cultural_space_qa_pairs_up\",\n",
        "    \"food\": \"qa_pairs_food\",\n",
        "    \"weather\": \"qa_pairs_year_and_month_avg\",\n",
        "    \"clubs\": \"qa_pairs_sfu_clubs\"\n",
        "}\n"
      ]
    },
    {
      "cell_type": "markdown",
      "metadata": {
        "id": "k5NPcS-__W2F"
      },
      "source": [
        "Set Embedding Model, and Chroma Client to Interact w Vector Database and Create Collections"
      ]
    },
    {
      "cell_type": "code",
      "execution_count": null,
      "metadata": {
        "id": "JKdxYOca7KfJ"
      },
      "outputs": [],
      "source": [
        "'''\n",
        "# seems like better results if we remove duplicates and very similar data\n",
        "data = pd.DataFrame({\"text\": all_texts})\n",
        "data = data.drop_duplicates()\n",
        "all_texts = data[\"text\"].tolist()\n",
        "\n",
        "print(f\"successfully added {len(all_texts)} documents to Chroma DB.\")\n",
        "'''"
      ]
    },
    {
      "cell_type": "markdown",
      "metadata": {
        "id": "YOEGkLgl_e2Z"
      },
      "source": [
        "Function to add data to collection by embedding them"
      ]
    },
    {
      "cell_type": "code",
      "execution_count": 27,
      "metadata": {
        "id": "9lN1Q5d_8jZt"
      },
      "outputs": [],
      "source": [
        "'''\n",
        "def add_data_to_collection_batch(collection, texts, batch_size=3):\n",
        "    for idx in range(0, len(texts), batch_size):\n",
        "        try:\n",
        "            batch_texts = texts[idx: idx + batch_size]\n",
        "\n",
        "            embeddings = embedding_model.embed_documents(batch_texts)\n",
        "\n",
        "            batch_ids = [str(uuid.uuid4()) for _ in batch_texts]\n",
        "\n",
        "            collection.add(\n",
        "                ids=batch_ids,\n",
        "                embeddings=embeddings,\n",
        "                documents=batch_texts\n",
        "            )\n",
        "            print(f\"successfully added {len(batch_texts)} documents (Batch {idx}-{idx + batch_size - 1})\")\n",
        "        except Exception as e:\n",
        "            print(f\"Error processing batch starting at index {idx}: {e}\")\n",
        "'''"
      ]
    },
    {
      "cell_type": "markdown",
      "metadata": {
        "id": "Kn2LQiJq_k9t"
      },
      "source": [
        "Function to now match for releveant document"
      ]
    },
    {
      "cell_type": "code",
      "execution_count": 7,
      "metadata": {
        "id": "TEulNQZw8mDo"
      },
      "outputs": [],
      "source": [
        "def get_relevant_documents(query, categories, n_results=2):\n",
        "    all_results = []\n",
        "    query_embedding = embedding_model.embed_documents([query])[0]\n",
        "\n",
        "    for category in categories:\n",
        "        collection_name = collection_map[category]\n",
        "        if collection_name in collections:\n",
        "            try:\n",
        "                result = collections[collection_name].query(\n",
        "                    query_embeddings=[query_embedding],\n",
        "                    n_results=n_results\n",
        "                )\n",
        "                docs = result.get(\"documents\", [[]])[0]\n",
        "                sims = result.get(\"distances\", [[]])[0]\n",
        "\n",
        "                all_results.extend(zip(docs, sims))\n",
        "            except Exception as e:\n",
        "                print(f\"error querying {collection_name}: {e}\")\n",
        "\n",
        "    all_results = sorted(all_results, key=lambda x: x[1])\n",
        "\n",
        "    return all_results[:n_results]\n"
      ]
    },
    {
      "cell_type": "markdown",
      "metadata": {
        "id": "GjivdEV5fPxq"
      },
      "source": [
        "### Classify Prompt"
      ]
    },
    {
      "cell_type": "code",
      "execution_count": null,
      "metadata": {
        "id": "xVTQznmhfN9V"
      },
      "outputs": [],
      "source": [
        "import re\n",
        "import difflib\n",
        "\n",
        "valid_categories = list(collection_map.keys())\n",
        "fallback_category = \"faq\"\n",
        "\n",
        "def classify_query(query):\n",
        "    category_prompt = f\"\"\"\n",
        "    You are a classifier for a Q&A system for international students in British Columbia.\n",
        "    Choose the **1 most relevant** category from this list, or at most 3 if absolutely needed (comma-separated):\n",
        "\n",
        "    {\", \".join(valid_categories)}\n",
        "\n",
        "    Query: \"{query}\"\n",
        "\n",
        "    Return only the category name(s) as a comma-separated string.\n",
        "    \"\"\"\n",
        "\n",
        "    response = model(category_prompt, max_tokens=50, temperature=0)[\"choices\"][0][\"text\"].strip().lower()\n",
        "    print(\"Raw out:\", response)\n",
        "\n",
        "    tokens = re.findall(r'\\b\\w+\\b', response)\n",
        "\n",
        "    matched = []\n",
        "    for token in tokens:\n",
        "        closest = difflib.get_close_matches(token, valid_categories, n=1, cutoff=0.8)\n",
        "        if closest and closest[0] not in matched:\n",
        "            matched.append(closest[0])\n",
        "        if len(matched) == 3:\n",
        "            break\n",
        "\n",
        "    if fallback_category not in matched:\n",
        "      matched.append(fallback_category)\n",
        "\n",
        "    return matched[:3]\n"
      ]
    },
    {
      "cell_type": "markdown",
      "metadata": {
        "id": "eV_h8UJa_pGj"
      },
      "source": [
        "Generate Answer"
      ]
    },
    {
      "cell_type": "code",
      "execution_count": 64,
      "metadata": {
        "id": "EMTYliNl8onj"
      },
      "outputs": [],
      "source": [
        "def generate_answer(query):\n",
        "    categories = classify_query(query)\n",
        "    print(f\"Categories {categories}\\n\")\n",
        "    relevant_documents = get_relevant_documents(query, categories)\n",
        "\n",
        "    if not relevant_documents:\n",
        "        return {\n",
        "            \"After RAG Response\": \"Sorry, no relevant documents found.\"\n",
        "        }\n",
        "\n",
        "    #relevant_documents = list(set(relevant_documents))\n",
        "\n",
        "    seen = set()\n",
        "    unique_docs = []\n",
        "    for doc, sim in relevant_documents:\n",
        "        if doc not in seen:\n",
        "            seen.add(doc)\n",
        "            unique_docs.append((doc, sim))\n",
        "\n",
        "    print(\"Relevant Documents with Similarity Scores:\")\n",
        "    for doc, sim in unique_docs:\n",
        "        print(f\"Similarity: {sim:.4f}\\nDoc: {doc}\\n\")\n",
        "\n",
        "    relevant_texts = \"\\n\\n\".join([doc for doc, _ in unique_docs])\n",
        "\n",
        "    rag_prompt = f\"\"\"\n",
        "    You are a helpful assistant for international students new to British Columbia Canada. Here are relevant documents:\n",
        "\n",
        "    {relevant_texts}\n",
        "\n",
        "    Please respond to the following question based on the documents above. Be conversational but concise, aim to answer accurately using the documents, but in as few words as possible (i.e. less than 20).\n",
        "    Question: {query}\n",
        "\n",
        "    Answer:\n",
        "    \"\"\"\n",
        "\n",
        "    response_after_rag = model(rag_prompt, max_tokens=300, temperature=0.1)[\"choices\"][0][\"text\"]\n",
        "\n",
        "    return {\n",
        "        \"After RAG Response\": response_after_rag\n",
        "    }\n"
      ]
    },
    {
      "cell_type": "markdown",
      "metadata": {
        "id": "zxtEFTiK_q8E"
      },
      "source": [
        "Example Usage"
      ]
    },
    {
      "cell_type": "code",
      "execution_count": 69,
      "metadata": {
        "colab": {
          "base_uri": "https://localhost:8080/",
          "height": 1000
        },
        "id": "EVDilNoM8sU8",
        "outputId": "20b5ccda-84b1-4213-d257-dcd59e8e761c"
      },
      "outputs": [
        {
          "name": "stderr",
          "output_type": "stream",
          "text": [
            "Llama.generate: 2 prefix-match hit, remaining 108 prompt tokens to eval\n",
            "llama_perf_context_print:        load time =   95543.24 ms\n",
            "llama_perf_context_print: prompt eval time =  170802.70 ms /   576 tokens (  296.53 ms per token,     3.37 tokens per second)\n",
            "llama_perf_context_print:        eval time =   14250.28 ms /    49 runs   (  290.82 ms per token,     3.44 tokens per second)\n",
            "llama_perf_context_print:       total time =   39082.24 ms /   625 tokens\n",
            "Llama.generate: 2 prefix-match hit, remaining 267 prompt tokens to eval\n"
          ]
        },
        {
          "name": "stdout",
          "output_type": "stream",
          "text": [
            "Raw out: the query is likely to be related to arts and cultural events, so i would recommend the following categories:\n",
            "\n",
            "arts, cultural, events, festivals, concerts, performances, exhibitions, museums, arts, cultural events, arts festivals, cultural events, cultural events\n",
            "Categories ['culture', 'faq']\n",
            "\n",
            "Relevant Documents with Similarity Scores:\n",
            "Similarity: 21.2244\n",
            "Doc: Where can I find information about arts and cultural events? You can visit theDestination British Columbiawebsite, which has information about art galleries, museums and heritage sites across British Columbia. The British Columbia Arts Council also publishes a searchable calendar of arts and cultural events in communities across British Columbia. Some places and events will cost money, but they may be free or give a discount on certain days. Some communities have their own special events, such as festivals and fairs. These are often free and give you a chance to learn about your community. You can get information at public libraries, tourist information offices, arts councils, and municipal park boards. Destination British Columbia For more information: Government of British Columbia: Arts and Culture Government of British Columbia: Arts and Culture Destination British Columbia: Things to Do – Arts & Heritage Destination British Columbia: Things to Do – Arts & Heritage NewToBC FaceBook NewToBC FaceBook\n",
            "\n"
          ]
        },
        {
          "name": "stderr",
          "output_type": "stream",
          "text": [
            "llama_perf_context_print:        load time =   95543.24 ms\n",
            "llama_perf_context_print: prompt eval time =   59614.45 ms /   267 tokens (  223.28 ms per token,     4.48 tokens per second)\n",
            "llama_perf_context_print:        eval time =   19381.33 ms /    64 runs   (  302.83 ms per token,     3.30 tokens per second)\n",
            "llama_perf_context_print:       total time =   79095.52 ms /   331 tokens\n",
            "Llama.generate: 2 prefix-match hit, remaining 111 prompt tokens to eval\n"
          ]
        },
        {
          "name": "stdout",
          "output_type": "stream",
          "text": [
            "\n",
            "==================================================\n",
            "Benchmark Query 1: Where can I find information about arts and cultural events?\n",
            "==================================================\n",
            "\n",
            "Response After RAG:\n",
            "  You can find information about arts and cultural events in British Columbia through the following sources:\n",
            "     Destination British Columbia website\n",
            "     British Columbia Arts Council\n",
            "     Public libraries\n",
            "     Tourist information offices\n",
            "     Arts councils\n",
            "     Municipal park boards\n",
            "     Destination British Columbia Things to Do – Arts & Heritage\n",
            "\n",
            "    Good luck!\n",
            "\n",
            "(Benchmark) Answer:\n",
            " Visit the Destination British Columbia website for art galleries, museums, and heritage sites. The British Columbia Arts Council also offers a searchable calendar. Some events are free or discounted on certain days, and local libraries, tourist offices, and municipal park boards often provide event details.\n",
            "==================================================\n",
            "\n",
            "\n"
          ]
        },
        {
          "name": "stderr",
          "output_type": "stream",
          "text": [
            "llama_perf_context_print:        load time =   95543.24 ms\n",
            "llama_perf_context_print: prompt eval time =   25412.97 ms /   111 tokens (  228.95 ms per token,     4.37 tokens per second)\n",
            "llama_perf_context_print:        eval time =   14233.55 ms /    49 runs   (  290.48 ms per token,     3.44 tokens per second)\n",
            "llama_perf_context_print:       total time =   39722.63 ms /   160 tokens\n",
            "Llama.generate: 2 prefix-match hit, remaining 205 prompt tokens to eval\n"
          ]
        },
        {
          "name": "stdout",
          "output_type": "stream",
          "text": [
            "Raw out: (no additional response is required, just the final answer) \n",
            "\n",
            "park, faq, faq, faq, faq, faq, faq, faq, faq, faq, faq, faq, faq\n",
            "Categories ['parks', 'faq']\n",
            "\n",
            "Relevant Documents with Similarity Scores:\n",
            "Similarity: 22.6056\n",
            "Doc: What is a provincial or national park and how can I find one? British Columbia has more than 1,000 provincial parks and protected areas, and 7 national parks. Many of these parks are large and have beautiful forests, rivers, mountains and lakes. You can visit provincial and national parks for hiking, camping, skiing, boating and fishing. For more information: Government of British Columbia: BC Parks Government of British Columbia: BC Parks Destination British Columbia: Parks and Wildlife Destination British Columbia: Parks and Wildlife Government of Canada: National Parks of Canada Government of Canada: National Parks of Canada\n",
            "\n"
          ]
        },
        {
          "name": "stderr",
          "output_type": "stream",
          "text": [
            "llama_perf_context_print:        load time =   95543.24 ms\n",
            "llama_perf_context_print: prompt eval time =   46688.74 ms /   205 tokens (  227.75 ms per token,     4.39 tokens per second)\n",
            "llama_perf_context_print:        eval time =   31787.02 ms /   106 runs   (  299.88 ms per token,     3.33 tokens per second)\n",
            "llama_perf_context_print:       total time =   78645.13 ms /   311 tokens\n",
            "Llama.generate: 2 prefix-match hit, remaining 108 prompt tokens to eval\n"
          ]
        },
        {
          "name": "stdout",
          "output_type": "stream",
          "text": [
            "\n",
            "==================================================\n",
            "Benchmark Query 2: What is a provincial or national park and how can I find one?\n",
            "==================================================\n",
            "\n",
            "Response After RAG:\n",
            "  A provincial or national park is a protected area in British Columbia, Canada, that offers a variety of outdoor recreational activities such as hiking, camping, skiing, boating, and fishing. You can find a provincial or national park by visiting the Government of British Columbia's website, BC Parks, or by contacting the Parks and Wildlife Branch of the Government of British Columbia. They can provide you with information on the location, activities, and regulations of each park. You can also search for parks using the Parks and Wildlife Branch's website.\n",
            "\n",
            "(Benchmark) Answer:\n",
            " BC has over 1,000 provincial parks and 7 national parks, offering activities like hiking, camping, and fishing.\n",
            "==================================================\n",
            "\n",
            "\n"
          ]
        },
        {
          "name": "stderr",
          "output_type": "stream",
          "text": [
            "llama_perf_context_print:        load time =   95543.24 ms\n",
            "llama_perf_context_print: prompt eval time =   24922.29 ms /   108 tokens (  230.76 ms per token,     4.33 tokens per second)\n",
            "llama_perf_context_print:        eval time =   14329.98 ms /    49 runs   (  292.45 ms per token,     3.42 tokens per second)\n",
            "llama_perf_context_print:       total time =   39329.11 ms /   157 tokens\n",
            "Llama.generate: 2 prefix-match hit, remaining 336 prompt tokens to eval\n"
          ]
        },
        {
          "name": "stdout",
          "output_type": "stream",
          "text": [
            "Raw out: answer: study, student work, transit, faq, housing, immigration, clubs, hiking, weather, parks, culture, food, faq, faq, faq, faq, faq, faq, faq, fa\n",
            "Categories ['study', 'transit', 'faq']\n",
            "\n",
            "Relevant Documents with Similarity Scores:\n",
            "Similarity: 21.8474\n",
            "Doc: What do I need to prepare before coming to BC? While you are waiting for your visa or permit, there are some things that you can do to prepare for your new life in British Columbia. You can learn about the region and community where you plan to move. You can find a place to stay when you first arrive. You can gather your documents, such as professional certificates and school records, and get them translated into an official language (English or French) by a certified translator. You can also start to learn English or French. Immigration, Refugees and Citizenship Canada (IRCC) offers free in-person and online pre-arrival services to immigrants abroad to prepare them for life in Canada. For more information: Immigration, Refugees and Citizenship Canada: Get help before arriving in Canada – Pre-arrival services Immigration, Refugees and Citizenship Canada: Get help before arriving in Canada – Pre-arrival services Immigration, Refugees and Citizenship Canada: Prepare for Life in Canada Immigration, Refugees and Citizenship Canada: Prepare for Life in Canada Immigration, Refugees and Citizenship Canada: Crossing the border: documents you need Immigration, Refugees and Citizenship Canada: Crossing the border: documents you need WelcomeBC: Before You Move to BC WelcomeBC: Before You Move to BC\n",
            "\n"
          ]
        },
        {
          "name": "stderr",
          "output_type": "stream",
          "text": [
            "llama_perf_context_print:        load time =   95543.24 ms\n",
            "llama_perf_context_print: prompt eval time =   77087.41 ms /   336 tokens (  229.43 ms per token,     4.36 tokens per second)\n",
            "llama_perf_context_print:        eval time =   61838.96 ms /   206 runs   (  300.19 ms per token,     3.33 tokens per second)\n",
            "llama_perf_context_print:       total time =  139276.46 ms /   542 tokens\n",
            "Llama.generate: 2 prefix-match hit, remaining 106 prompt tokens to eval\n"
          ]
        },
        {
          "name": "stdout",
          "output_type": "stream",
          "text": [
            "\n",
            "==================================================\n",
            "Benchmark Query 3: What do I need to prepare before coming to BC?\n",
            "==================================================\n",
            "\n",
            "Response After RAG:\n",
            "  You can learn about the region and community where you plan to move. You can find a place to stay when you first arrive. You can gather your documents, such as professional certificates and school records, and get them translated into an official language (English or French) by a certified translator. You can also start to learn English or French. Immigration, Refugees and Citizenship Canada (IRCC) offers free in-person and online pre-arrival services to immigrants abroad to prepare them for life in Canada. For more information: Immigration, Refugees and Citizenship Canada: Get help before arriving in Canada – Pre-arrival services Immigration, Refugees and Citizenship Canada: Get help before arriving in Canada – Pre-arrival services Immigration, Refugees and Citizenship Canada: Prepare for Life in Canada Immigration, Refugees and Citizenship Canada: Prepare for Life in Canada Immigration, Refugees and Citizenship Canada: Crossing the border: documents you need Immigration, Refugees and Citizenship Canada: Crossing the border: documents you need WelcomeBC: Before You Move to BC\n",
            "\n",
            "(Benchmark) Answer:\n",
            " Before arriving, learn about your community, secure accommodation, gather documents (like certificates and school records), and get them translated. You can also take language classes. IRCC offers free pre-arrival services.\n",
            "==================================================\n",
            "\n",
            "\n"
          ]
        },
        {
          "name": "stderr",
          "output_type": "stream",
          "text": [
            "llama_perf_context_print:        load time =   95543.24 ms\n",
            "llama_perf_context_print: prompt eval time =   23935.00 ms /   106 tokens (  225.80 ms per token,     4.43 tokens per second)\n",
            "llama_perf_context_print:        eval time =   14478.23 ms /    49 runs   (  295.47 ms per token,     3.38 tokens per second)\n",
            "llama_perf_context_print:       total time =   38490.68 ms /   155 tokens\n",
            "Llama.generate: 2 prefix-match hit, remaining 161 prompt tokens to eval\n"
          ]
        },
        {
          "name": "stdout",
          "output_type": "stream",
          "text": [
            "Raw out: answer: study, faq, faq, faq, faq, faq, faq, faq, faq, faq, faq, faq, faq, faq, faq, faq, fa\n",
            "Categories ['study', 'faq']\n",
            "\n",
            "Relevant Documents with Similarity Scores:\n",
            "Similarity: 37.9232\n",
            "Doc: What are the costs of driving in BC? If you own a car, you must register your car and buy licence plates and car insurance. The costs of driving vary, depending on the type of vehicle you drive, where you live, how much you use your car, your driving record and more. For more information: British Columbia Automobile Association: Driving Costs Calculator British Columbia Automobile Association: Driving Costs Calculator\n",
            "\n"
          ]
        },
        {
          "name": "stderr",
          "output_type": "stream",
          "text": [
            "llama_perf_context_print:        load time =   95543.24 ms\n",
            "llama_perf_context_print: prompt eval time =   36838.82 ms /   161 tokens (  228.81 ms per token,     4.37 tokens per second)\n",
            "llama_perf_context_print:        eval time =   13525.63 ms /    46 runs   (  294.04 ms per token,     3.40 tokens per second)\n",
            "llama_perf_context_print:       total time =   50434.59 ms /   207 tokens\n",
            "Llama.generate: 2 prefix-match hit, remaining 107 prompt tokens to eval\n"
          ]
        },
        {
          "name": "stdout",
          "output_type": "stream",
          "text": [
            "\n",
            "==================================================\n",
            "Benchmark Query 4: What are the costs of driving in BC?\n",
            "==================================================\n",
            "\n",
            "Response After RAG:\n",
            "  The costs of driving in BC vary depending on the type of vehicle, where you live, how much you use your car, your driving record and more. For more information, check the British Columbia Automobile Association: Driving Costs Calculator.\n",
            "\n",
            "(Benchmark) Answer:\n",
            " Costs include car registration, license plates, and insurance, which vary based on the vehicle, location, usage, and driving record.\n",
            "==================================================\n",
            "\n",
            "\n"
          ]
        },
        {
          "name": "stderr",
          "output_type": "stream",
          "text": [
            "llama_perf_context_print:        load time =   95543.24 ms\n",
            "llama_perf_context_print: prompt eval time =   24583.78 ms /   107 tokens (  229.75 ms per token,     4.35 tokens per second)\n",
            "llama_perf_context_print:        eval time =   14213.14 ms /    49 runs   (  290.06 ms per token,     3.45 tokens per second)\n",
            "llama_perf_context_print:       total time =   38873.56 ms /   156 tokens\n",
            "Llama.generate: 2 prefix-match hit, remaining 333 prompt tokens to eval\n"
          ]
        },
        {
          "name": "stdout",
          "output_type": "stream",
          "text": [
            "Raw out: answer: study, housing, faq, weather, clubs, food, transit, parks, culture, immigration, permanent residence, student work, hiking, faq, housing, faq, faq, faq, faq, faq\n",
            "Categories ['study', 'housing', 'faq']\n",
            "\n",
            "Relevant Documents with Similarity Scores:\n",
            "Similarity: 35.5687\n",
            "Doc: Can I get financial assistance to help pay for my rent? BC Housing is a government agency that helps people in greatest need. They provide subsidized (government-assisted) housing, where the amount of rent you pay is based on the money you earn. To be eligible for subsidized housing, you must meet the residency requirements and have a total household income below a certain amount. They also manage the Rental Assistance Program (RAP), which provides low-income, working families with cash to help pay their monthly rent. To be eligible, families must have an annual gross household income of $40,000 or less, have assets of $100,000 or less, have at least one dependent child, have been employed at some point over the last year and have lived in B.C. for 12 months. Housing co-operatives (co-ops) and some non-profit groups also provide low-cost housing. There is often a waiting list for these places. For more information: BC Housing: Rental Housing BC Housing: Rental Housing BC Housing: Contact Us BC Housing: Contact Us BC Housing: Rental Assistance Program BC Housing: Rental Assistance Program Co-operative Housing Federation of British Columbia: Find a Housing Co-operative Co-operative Housing Federation of British Columbia: Find a Housing Co-operative\n",
            "\n"
          ]
        },
        {
          "name": "stderr",
          "output_type": "stream",
          "text": [
            "llama_perf_context_print:        load time =   95543.24 ms\n",
            "llama_perf_context_print: prompt eval time =   76317.45 ms /   333 tokens (  229.18 ms per token,     4.36 tokens per second)\n",
            "llama_perf_context_print:        eval time =   67219.28 ms /   227 runs   (  296.12 ms per token,     3.38 tokens per second)\n",
            "llama_perf_context_print:       total time =  143931.59 ms /   560 tokens\n",
            "Llama.generate: 2 prefix-match hit, remaining 107 prompt tokens to eval\n"
          ]
        },
        {
          "name": "stdout",
          "output_type": "stream",
          "text": [
            "\n",
            "==================================================\n",
            "Benchmark Query 5: How much does it cost to live in BC?\n",
            "==================================================\n",
            "\n",
            "Response After RAG:\n",
            "  The cost of living in British Columbia can vary greatly depending on the location. In general, the cost of housing, food, transportation, and other living expenses can be relatively high in major cities like Vancouver and Victoria. However, the cost of living in smaller towns and rural areas can be significantly lower. According to the BC Housing website, the average rent for a one-bedroom apartment in Vancouver is around $1,800 per month. In contrast, the average rent for a one-bedroom apartment in a small town in the Okanagan Valley is around $400 per month. The cost of food, transportation, and other living expenses can also vary depending on the location. For example, the cost of groceries in Vancouver is around $100 per week, while in smaller towns, it's around $50 per week. The cost of transportation varies depending on the mode of transportation, with public transit being the cheapest option. For example, a monthly pass for public transit in Vancouver costs around $100, while in smaller towns, it's around $20 per month. Overall, the cost of living in British Columbia can vary greatly depending on the location.\n",
            "\n",
            "(Benchmark) Answer:\n",
            " Use the WelcomeBC Cost of Living Calculator to compare expenses like housing, utilities, and transportation across BC communities.\n",
            "==================================================\n",
            "\n",
            "\n"
          ]
        },
        {
          "name": "stderr",
          "output_type": "stream",
          "text": [
            "llama_perf_context_print:        load time =   95543.24 ms\n",
            "llama_perf_context_print: prompt eval time =   24270.83 ms /   107 tokens (  226.83 ms per token,     4.41 tokens per second)\n",
            "llama_perf_context_print:        eval time =   14119.31 ms /    49 runs   (  288.15 ms per token,     3.47 tokens per second)\n",
            "llama_perf_context_print:       total time =   38467.70 ms /   156 tokens\n",
            "Llama.generate: 2 prefix-match hit, remaining 195 prompt tokens to eval\n"
          ]
        },
        {
          "name": "stdout",
          "output_type": "stream",
          "text": [
            "Raw out: (no additional response, just the answer) \n",
            "\n",
            "study, faq, weather, clubs, housing, culture, transit, immigration, hiking, food, parks, student work, permanent residence, general info, faq, hiking, student work,\n",
            "Categories ['study', 'faq', 'weather']\n",
            "\n",
            "Relevant Documents with Similarity Scores:\n",
            "Similarity: 15.6794\n",
            "Doc: What should I know about public universities in BC? There are 11 public universities in British Columbia that offer different types of undergraduate and graduate degree programs in many disciplines and subjects. Some also offer courses and programs in trades, vocational and career technical studies that can lead to a certificate or diploma or help you prepare for other post-secondary studies. For more information: Government of British Columbia: Post-Secondary Education Government of British Columbia: Post-Secondary Education British Columbia Council on Admissions and Transfer: BC Transfer System British Columbia Council on Admissions and Transfer: BC Transfer System\n",
            "\n"
          ]
        },
        {
          "name": "stderr",
          "output_type": "stream",
          "text": [
            "llama_perf_context_print:        load time =   95543.24 ms\n",
            "llama_perf_context_print: prompt eval time =   44765.04 ms /   195 tokens (  229.56 ms per token,     4.36 tokens per second)\n",
            "llama_perf_context_print:        eval time =   23684.03 ms /    82 runs   (  288.83 ms per token,     3.46 tokens per second)\n",
            "llama_perf_context_print:       total time =   68576.97 ms /   277 tokens\n",
            "Llama.generate: 2 prefix-match hit, remaining 108 prompt tokens to eval\n"
          ]
        },
        {
          "name": "stdout",
          "output_type": "stream",
          "text": [
            "\n",
            "==================================================\n",
            "Benchmark Query 6: What should I know about public universities in BC?\n",
            "==================================================\n",
            "\n",
            "Response After RAG:\n",
            "  Public universities in BC offer various degree programs in many disciplines. Some also offer trades, vocational, and career technical studies. BC Transfer System helps you navigate the process of transferring from a high school diploma to a post-secondary education. BC Council on Admissions and Transfer provides information on the transfer process and post-graduation options. BC Council on Admissions and Transfer also offers guidance on post-graduation plans.\n",
            "\n",
            "(Benchmark) Answer:\n",
            " BC has 11 public universities offering undergraduate, graduate, vocational, trades programs and career technical studies leading to certificate or diploma.\n",
            "==================================================\n",
            "\n",
            "\n"
          ]
        },
        {
          "name": "stderr",
          "output_type": "stream",
          "text": [
            "llama_perf_context_print:        load time =   95543.24 ms\n",
            "llama_perf_context_print: prompt eval time =   24895.15 ms /   108 tokens (  230.51 ms per token,     4.34 tokens per second)\n",
            "llama_perf_context_print:        eval time =    9380.78 ms /    31 runs   (  302.61 ms per token,     3.30 tokens per second)\n",
            "llama_perf_context_print:       total time =   34324.79 ms /   139 tokens\n",
            "Llama.generate: 2 prefix-match hit, remaining 333 prompt tokens to eval\n"
          ]
        },
        {
          "name": "stdout",
          "output_type": "stream",
          "text": [
            "Raw out: (if you choose to choose 3, i'll respond accordingly)\n",
            "\n",
            "(note: i'll respond with the most relevant category(s) as per your request)\n",
            "Categories ['faq']\n",
            "\n",
            "Relevant Documents with Similarity Scores:\n",
            "Similarity: 18.5710\n",
            "Doc: What do I need to know about working in Canada? You need to apply for a Social Insurance Number (SIN) in order to work in Canada or to have access to government programs and benefits. Finding a job in Canada may be different from finding a job in your home country. You may face challenges at the beginning to get a job that matches your qualifications and interests. It may take time to build your qualifications and gain Canadian experience before finding the job you really want. However, there are several resources that can help you understand what to do to find a job. For more information: Immigration, Refugees and Citizenship Canada: Look for Jobs in Canada Immigration, Refugees and Citizenship Canada: Look for Jobs in Canada Immigration, Refugees and Citizenship Canada: Planning to work in British Columbia, Canada? An Essential Workbook for Newcomers Immigration, Refugees and Citizenship Canada: Planning to work in British Columbia, Canada? An Essential Workbook for Newcomers WelcomeBC: Finding Work in BC WelcomeBC: Finding Work in BC WorkBC: Types of Employment in British Columbia WorkBC: Types of Employment in British Columbia Vancouver Public Library: Skilled Immigrant InfoCentre – Employment Guides Vancouver Public Library: Skilled Immigrant InfoCentre – Employment Guides\n",
            "\n"
          ]
        },
        {
          "name": "stderr",
          "output_type": "stream",
          "text": [
            "llama_perf_context_print:        load time =   95543.24 ms\n",
            "llama_perf_context_print: prompt eval time =   76294.92 ms /   333 tokens (  229.11 ms per token,     4.36 tokens per second)\n",
            "llama_perf_context_print:        eval time =   30310.13 ms /   103 runs   (  294.27 ms per token,     3.40 tokens per second)\n",
            "llama_perf_context_print:       total time =  106769.94 ms /   436 tokens\n",
            "Llama.generate: 2 prefix-match hit, remaining 108 prompt tokens to eval\n"
          ]
        },
        {
          "name": "stdout",
          "output_type": "stream",
          "text": [
            "\n",
            "==================================================\n",
            "Benchmark Query 7: What do I need to know about working in Canada?\n",
            "==================================================\n",
            "\n",
            "Response After RAG:\n",
            "  You need to apply for a Social Insurance Number (SIN) in order to work in Canada or to have access to government programs and benefits. Finding a job in Canada may be different from finding a job in your home country. You may face challenges at the beginning to get a job that matches your qualifications and interests. It may take time to build your qualifications and gain Canadian experience before finding the job you really want. However, there are several resources that can help you understand what to do to find a job.\n",
            "\n",
            "(Benchmark) Answer:\n",
            " Apply for a Social Insurance Number (SIN) to work and access government programs. The job market might require building Canadian experience, but resources are available to assist with job searches.\n",
            "==================================================\n",
            "\n",
            "\n"
          ]
        },
        {
          "name": "stderr",
          "output_type": "stream",
          "text": [
            "llama_perf_context_print:        load time =   95543.24 ms\n",
            "llama_perf_context_print: prompt eval time =   24776.07 ms /   108 tokens (  229.41 ms per token,     4.36 tokens per second)\n",
            "llama_perf_context_print:        eval time =   14283.12 ms /    49 runs   (  291.49 ms per token,     3.43 tokens per second)\n",
            "llama_perf_context_print:       total time =   39136.89 ms /   157 tokens\n",
            "Llama.generate: 2 prefix-match hit, remaining 227 prompt tokens to eval\n"
          ]
        },
        {
          "name": "stdout",
          "output_type": "stream",
          "text": [
            "Raw out: answer: sin, student work, faq, transit, general info, faq, housing, immigration, parks, culture, food, weather, clubs, faq, faq, faq, faq, faq, faq,\n",
            "Categories ['faq', 'transit', 'housing']\n",
            "\n",
            "Relevant Documents with Similarity Scores:\n",
            "Similarity: 14.8552\n",
            "Doc: What is a Social Insurance Number (SIN)? A Social Insurance Number (SIN) is a nine-digit number that you need in order to work in Canada or have access to government programs and benefits. Children aged 12 years and older may apply for their own SIN. Parents and legal guardians can also apply for a SIN for children under the age of majority in their province. Each SIN is issued to one person only. It cannot legally be used by anyone else. You are responsible for protecting your SIN, so it is important that you keep it in a safe place. For more information: WelcomeBC: Social Insurance Number WelcomeBC: Social Insurance Number Government of Canada: Social Insurance Number Government of Canada: Social Insurance Number \n",
            "\n"
          ]
        },
        {
          "ename": "KeyboardInterrupt",
          "evalue": "",
          "output_type": "error",
          "traceback": [
            "\u001b[0;31m---------------------------------------------------------------------------\u001b[0m",
            "\u001b[0;31mKeyboardInterrupt\u001b[0m                         Traceback (most recent call last)",
            "\u001b[0;32m<ipython-input-69-e7cc7b15cf9a>\u001b[0m in \u001b[0;36m<cell line: 0>\u001b[0;34m()\u001b[0m\n\u001b[1;32m      7\u001b[0m     \u001b[0mcorrect_answer\u001b[0m \u001b[0;34m=\u001b[0m \u001b[0mrow\u001b[0m\u001b[0;34m[\u001b[0m\u001b[0;34m\"Answer\"\u001b[0m\u001b[0;34m]\u001b[0m\u001b[0;34m\u001b[0m\u001b[0;34m\u001b[0m\u001b[0m\n\u001b[1;32m      8\u001b[0m \u001b[0;34m\u001b[0m\u001b[0m\n\u001b[0;32m----> 9\u001b[0;31m     \u001b[0mresponses\u001b[0m \u001b[0;34m=\u001b[0m \u001b[0mgenerate_answer\u001b[0m\u001b[0;34m(\u001b[0m\u001b[0muser_query\u001b[0m\u001b[0;34m)\u001b[0m\u001b[0;34m\u001b[0m\u001b[0;34m\u001b[0m\u001b[0m\n\u001b[0m\u001b[1;32m     10\u001b[0m \u001b[0;34m\u001b[0m\u001b[0m\n\u001b[1;32m     11\u001b[0m     \u001b[0mprint\u001b[0m\u001b[0;34m(\u001b[0m\u001b[0;34m\"\\n\"\u001b[0m \u001b[0;34m+\u001b[0m \u001b[0;34m\"=\"\u001b[0m\u001b[0;34m*\u001b[0m\u001b[0;36m50\u001b[0m\u001b[0;34m)\u001b[0m\u001b[0;34m\u001b[0m\u001b[0;34m\u001b[0m\u001b[0m\n",
            "\u001b[0;32m<ipython-input-64-4b35ea826dd0>\u001b[0m in \u001b[0;36mgenerate_answer\u001b[0;34m(query)\u001b[0m\n\u001b[1;32m     35\u001b[0m     \"\"\"\n\u001b[1;32m     36\u001b[0m \u001b[0;34m\u001b[0m\u001b[0m\n\u001b[0;32m---> 37\u001b[0;31m     \u001b[0mresponse_after_rag\u001b[0m \u001b[0;34m=\u001b[0m \u001b[0mmodel\u001b[0m\u001b[0;34m(\u001b[0m\u001b[0mrag_prompt\u001b[0m\u001b[0;34m,\u001b[0m \u001b[0mmax_tokens\u001b[0m\u001b[0;34m=\u001b[0m\u001b[0;36m300\u001b[0m\u001b[0;34m,\u001b[0m \u001b[0mtemperature\u001b[0m\u001b[0;34m=\u001b[0m\u001b[0;36m0.1\u001b[0m\u001b[0;34m)\u001b[0m\u001b[0;34m[\u001b[0m\u001b[0;34m\"choices\"\u001b[0m\u001b[0;34m]\u001b[0m\u001b[0;34m[\u001b[0m\u001b[0;36m0\u001b[0m\u001b[0;34m]\u001b[0m\u001b[0;34m[\u001b[0m\u001b[0;34m\"text\"\u001b[0m\u001b[0;34m]\u001b[0m\u001b[0;34m\u001b[0m\u001b[0;34m\u001b[0m\u001b[0m\n\u001b[0m\u001b[1;32m     38\u001b[0m \u001b[0;34m\u001b[0m\u001b[0m\n\u001b[1;32m     39\u001b[0m     return {\n",
            "\u001b[0;32m/usr/local/lib/python3.11/dist-packages/llama_cpp/llama.py\u001b[0m in \u001b[0;36m__call__\u001b[0;34m(self, prompt, suffix, max_tokens, temperature, top_p, min_p, typical_p, logprobs, echo, stop, frequency_penalty, presence_penalty, repeat_penalty, top_k, stream, seed, tfs_z, mirostat_mode, mirostat_tau, mirostat_eta, model, stopping_criteria, logits_processor, grammar, logit_bias)\u001b[0m\n\u001b[1;32m   1900\u001b[0m             \u001b[0mResponse\u001b[0m \u001b[0mobject\u001b[0m \u001b[0mcontaining\u001b[0m \u001b[0mthe\u001b[0m \u001b[0mgenerated\u001b[0m \u001b[0mtext\u001b[0m\u001b[0;34m.\u001b[0m\u001b[0;34m\u001b[0m\u001b[0;34m\u001b[0m\u001b[0m\n\u001b[1;32m   1901\u001b[0m         \"\"\"\n\u001b[0;32m-> 1902\u001b[0;31m         return self.create_completion(\n\u001b[0m\u001b[1;32m   1903\u001b[0m             \u001b[0mprompt\u001b[0m\u001b[0;34m=\u001b[0m\u001b[0mprompt\u001b[0m\u001b[0;34m,\u001b[0m\u001b[0;34m\u001b[0m\u001b[0;34m\u001b[0m\u001b[0m\n\u001b[1;32m   1904\u001b[0m             \u001b[0msuffix\u001b[0m\u001b[0;34m=\u001b[0m\u001b[0msuffix\u001b[0m\u001b[0;34m,\u001b[0m\u001b[0;34m\u001b[0m\u001b[0;34m\u001b[0m\u001b[0m\n",
            "\u001b[0;32m/usr/local/lib/python3.11/dist-packages/llama_cpp/llama.py\u001b[0m in \u001b[0;36mcreate_completion\u001b[0;34m(self, prompt, suffix, max_tokens, temperature, top_p, min_p, typical_p, logprobs, echo, stop, frequency_penalty, presence_penalty, repeat_penalty, top_k, stream, seed, tfs_z, mirostat_mode, mirostat_tau, mirostat_eta, model, stopping_criteria, logits_processor, grammar, logit_bias)\u001b[0m\n\u001b[1;32m   1833\u001b[0m             \u001b[0mchunks\u001b[0m\u001b[0;34m:\u001b[0m \u001b[0mIterator\u001b[0m\u001b[0;34m[\u001b[0m\u001b[0mCreateCompletionStreamResponse\u001b[0m\u001b[0;34m]\u001b[0m \u001b[0;34m=\u001b[0m \u001b[0mcompletion_or_chunks\u001b[0m\u001b[0;34m\u001b[0m\u001b[0;34m\u001b[0m\u001b[0m\n\u001b[1;32m   1834\u001b[0m             \u001b[0;32mreturn\u001b[0m \u001b[0mchunks\u001b[0m\u001b[0;34m\u001b[0m\u001b[0;34m\u001b[0m\u001b[0m\n\u001b[0;32m-> 1835\u001b[0;31m         \u001b[0mcompletion\u001b[0m\u001b[0;34m:\u001b[0m \u001b[0mCompletion\u001b[0m \u001b[0;34m=\u001b[0m \u001b[0mnext\u001b[0m\u001b[0;34m(\u001b[0m\u001b[0mcompletion_or_chunks\u001b[0m\u001b[0;34m)\u001b[0m  \u001b[0;31m# type: ignore\u001b[0m\u001b[0;34m\u001b[0m\u001b[0;34m\u001b[0m\u001b[0m\n\u001b[0m\u001b[1;32m   1836\u001b[0m         \u001b[0;32mreturn\u001b[0m \u001b[0mcompletion\u001b[0m\u001b[0;34m\u001b[0m\u001b[0;34m\u001b[0m\u001b[0m\n\u001b[1;32m   1837\u001b[0m \u001b[0;34m\u001b[0m\u001b[0m\n",
            "\u001b[0;32m/usr/local/lib/python3.11/dist-packages/llama_cpp/llama.py\u001b[0m in \u001b[0;36m_create_completion\u001b[0;34m(self, prompt, suffix, max_tokens, temperature, top_p, min_p, typical_p, logprobs, echo, stop, frequency_penalty, presence_penalty, repeat_penalty, top_k, stream, seed, tfs_z, mirostat_mode, mirostat_tau, mirostat_eta, model, stopping_criteria, logits_processor, grammar, logit_bias)\u001b[0m\n\u001b[1;32m   1318\u001b[0m         \u001b[0mfinish_reason\u001b[0m \u001b[0;34m=\u001b[0m \u001b[0;34m\"length\"\u001b[0m\u001b[0;34m\u001b[0m\u001b[0;34m\u001b[0m\u001b[0m\n\u001b[1;32m   1319\u001b[0m         \u001b[0mmultibyte_fix\u001b[0m \u001b[0;34m=\u001b[0m \u001b[0;36m0\u001b[0m\u001b[0;34m\u001b[0m\u001b[0;34m\u001b[0m\u001b[0m\n\u001b[0;32m-> 1320\u001b[0;31m         for token in self.generate(\n\u001b[0m\u001b[1;32m   1321\u001b[0m             \u001b[0mprompt_tokens\u001b[0m\u001b[0;34m,\u001b[0m\u001b[0;34m\u001b[0m\u001b[0;34m\u001b[0m\u001b[0m\n\u001b[1;32m   1322\u001b[0m             \u001b[0mtop_k\u001b[0m\u001b[0;34m=\u001b[0m\u001b[0mtop_k\u001b[0m\u001b[0;34m,\u001b[0m\u001b[0;34m\u001b[0m\u001b[0;34m\u001b[0m\u001b[0m\n",
            "\u001b[0;32m/usr/local/lib/python3.11/dist-packages/llama_cpp/llama.py\u001b[0m in \u001b[0;36mgenerate\u001b[0;34m(self, tokens, top_k, top_p, min_p, typical_p, temp, repeat_penalty, reset, frequency_penalty, presence_penalty, tfs_z, mirostat_mode, mirostat_tau, mirostat_eta, penalize_nl, logits_processor, stopping_criteria, grammar)\u001b[0m\n\u001b[1;32m    910\u001b[0m         \u001b[0;31m# Eval and sample\u001b[0m\u001b[0;34m\u001b[0m\u001b[0;34m\u001b[0m\u001b[0m\n\u001b[1;32m    911\u001b[0m         \u001b[0;32mwhile\u001b[0m \u001b[0;32mTrue\u001b[0m\u001b[0;34m:\u001b[0m\u001b[0;34m\u001b[0m\u001b[0;34m\u001b[0m\u001b[0m\n\u001b[0;32m--> 912\u001b[0;31m             \u001b[0mself\u001b[0m\u001b[0;34m.\u001b[0m\u001b[0meval\u001b[0m\u001b[0;34m(\u001b[0m\u001b[0mtokens\u001b[0m\u001b[0;34m)\u001b[0m\u001b[0;34m\u001b[0m\u001b[0;34m\u001b[0m\u001b[0m\n\u001b[0m\u001b[1;32m    913\u001b[0m             \u001b[0;32mwhile\u001b[0m \u001b[0msample_idx\u001b[0m \u001b[0;34m<\u001b[0m \u001b[0mself\u001b[0m\u001b[0;34m.\u001b[0m\u001b[0mn_tokens\u001b[0m\u001b[0;34m:\u001b[0m\u001b[0;34m\u001b[0m\u001b[0;34m\u001b[0m\u001b[0m\n\u001b[1;32m    914\u001b[0m                 token = self.sample(\n",
            "\u001b[0;32m/usr/local/lib/python3.11/dist-packages/llama_cpp/llama.py\u001b[0m in \u001b[0;36meval\u001b[0;34m(self, tokens)\u001b[0m\n\u001b[1;32m    644\u001b[0m                 \u001b[0mbatch\u001b[0m\u001b[0;34m=\u001b[0m\u001b[0mbatch\u001b[0m\u001b[0;34m,\u001b[0m \u001b[0mn_past\u001b[0m\u001b[0;34m=\u001b[0m\u001b[0mn_past\u001b[0m\u001b[0;34m,\u001b[0m \u001b[0mlogits_all\u001b[0m\u001b[0;34m=\u001b[0m\u001b[0mself\u001b[0m\u001b[0;34m.\u001b[0m\u001b[0mcontext_params\u001b[0m\u001b[0;34m.\u001b[0m\u001b[0mlogits_all\u001b[0m\u001b[0;34m\u001b[0m\u001b[0;34m\u001b[0m\u001b[0m\n\u001b[1;32m    645\u001b[0m             )\n\u001b[0;32m--> 646\u001b[0;31m             \u001b[0mself\u001b[0m\u001b[0;34m.\u001b[0m\u001b[0m_ctx\u001b[0m\u001b[0;34m.\u001b[0m\u001b[0mdecode\u001b[0m\u001b[0;34m(\u001b[0m\u001b[0mself\u001b[0m\u001b[0;34m.\u001b[0m\u001b[0m_batch\u001b[0m\u001b[0;34m)\u001b[0m\u001b[0;34m\u001b[0m\u001b[0;34m\u001b[0m\u001b[0m\n\u001b[0m\u001b[1;32m    647\u001b[0m             \u001b[0;31m# Save tokens\u001b[0m\u001b[0;34m\u001b[0m\u001b[0;34m\u001b[0m\u001b[0m\n\u001b[1;32m    648\u001b[0m             \u001b[0mself\u001b[0m\u001b[0;34m.\u001b[0m\u001b[0minput_ids\u001b[0m\u001b[0;34m[\u001b[0m\u001b[0mn_past\u001b[0m \u001b[0;34m:\u001b[0m \u001b[0mn_past\u001b[0m \u001b[0;34m+\u001b[0m \u001b[0mn_tokens\u001b[0m\u001b[0;34m]\u001b[0m \u001b[0;34m=\u001b[0m \u001b[0mbatch\u001b[0m\u001b[0;34m\u001b[0m\u001b[0;34m\u001b[0m\u001b[0m\n",
            "\u001b[0;32m/usr/local/lib/python3.11/dist-packages/llama_cpp/_internals.py\u001b[0m in \u001b[0;36mdecode\u001b[0;34m(self, batch)\u001b[0m\n\u001b[1;32m    304\u001b[0m \u001b[0;34m\u001b[0m\u001b[0m\n\u001b[1;32m    305\u001b[0m     \u001b[0;32mdef\u001b[0m \u001b[0mdecode\u001b[0m\u001b[0;34m(\u001b[0m\u001b[0mself\u001b[0m\u001b[0;34m,\u001b[0m \u001b[0mbatch\u001b[0m\u001b[0;34m:\u001b[0m \u001b[0mLlamaBatch\u001b[0m\u001b[0;34m)\u001b[0m\u001b[0;34m:\u001b[0m\u001b[0;34m\u001b[0m\u001b[0;34m\u001b[0m\u001b[0m\n\u001b[0;32m--> 306\u001b[0;31m         return_code = llama_cpp.llama_decode(\n\u001b[0m\u001b[1;32m    307\u001b[0m             \u001b[0mself\u001b[0m\u001b[0;34m.\u001b[0m\u001b[0mctx\u001b[0m\u001b[0;34m,\u001b[0m\u001b[0;34m\u001b[0m\u001b[0;34m\u001b[0m\u001b[0m\n\u001b[1;32m    308\u001b[0m             \u001b[0mbatch\u001b[0m\u001b[0;34m.\u001b[0m\u001b[0mbatch\u001b[0m\u001b[0;34m,\u001b[0m\u001b[0;34m\u001b[0m\u001b[0;34m\u001b[0m\u001b[0m\n",
            "\u001b[0;31mKeyboardInterrupt\u001b[0m: "
          ]
        }
      ],
      "source": [
        "import pandas as pd\n",
        "\n",
        "benchmark_data = pd.read_csv(\"./sample_data/seen-data.csv\")\n",
        "\n",
        "for idx, row in benchmark_data.iterrows():\n",
        "    user_query = row[\"Question\"]\n",
        "    correct_answer = row[\"Answer\"]\n",
        "\n",
        "    responses = generate_answer(user_query)\n",
        "\n",
        "    print(\"\\n\" + \"=\"*50)\n",
        "    print(f\"Benchmark Query {idx + 1}: {user_query}\")\n",
        "    print(\"=\"*50)\n",
        "    print(\"\\nResponse After RAG:\\n\", responses.get(\"After RAG Response\", \"N/A\"))\n",
        "    print(\"\\n(Benchmark) Answer:\\n\", correct_answer)\n",
        "    print(\"=\"*50 + \"\\n\\n\")\n"
      ]
    },
    {
      "cell_type": "code",
      "execution_count": null,
      "metadata": {
        "colab": {
          "base_uri": "https://localhost:8080/"
        },
        "id": "jYXYuMTs8Ni_",
        "outputId": "be51884d-dcfc-4d4f-b9e6-89dce60c9e9a"
      },
      "outputs": [
        {
          "name": "stdout",
          "output_type": "stream",
          "text": [
            "2\n"
          ]
        }
      ],
      "source": [
        "import multiprocessing\n",
        "print(multiprocessing.cpu_count())\n"
      ]
    }
  ],
  "metadata": {
    "colab": {
      "provenance": []
    },
    "kernelspec": {
      "display_name": "CampusConnect",
      "language": "python",
      "name": "python3"
    },
    "language_info": {
      "codemirror_mode": {
        "name": "ipython",
        "version": 3
      },
      "file_extension": ".py",
      "mimetype": "text/x-python",
      "name": "python",
      "nbconvert_exporter": "python",
      "pygments_lexer": "ipython3",
      "version": "3.10.16"
    }
  },
  "nbformat": 4,
  "nbformat_minor": 0
}
